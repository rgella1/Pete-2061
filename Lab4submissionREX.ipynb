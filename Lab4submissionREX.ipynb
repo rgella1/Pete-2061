{
 "cells": [
  {
   "cell_type": "markdown",
   "metadata": {
    "colab_type": "text",
    "id": "u1YDPNtbdHDj"
   },
   "source": [
    "# Control Structures and Data Frames\n",
    "\n",
    "## PETE 2061 Lab 4 Workbook \n",
    "\n",
    "## THIS IS DUE BY 11:59 PM ON SUNDAY (Sept 22, 2019)\n",
    "\n",
    "<a id='top'></a>"
   ]
  },
  {
   "cell_type": "markdown",
   "metadata": {},
   "source": [
    "1. Paste the url (or link) to the pete2061 folder in your github account in the \"marked down\" cell below. <br>"
   ]
  },
  {
   "cell_type": "markdown",
   "metadata": {},
   "source": []
  },
  {
   "cell_type": "markdown",
   "metadata": {},
   "source": [
    "2. It is commonly said that one human year is equivalent to 7 dog years. However, this simple conversion fails to recognize that dogs reach adulthood in approximately two years. As a result, some people believe that it is better to count each of the first two human years as 10.5 dog years, and then count each additional human year as 4 dog\n",
    "years. <br>\n",
    "Write a program that implements the conversion from human years to dog years described in the previous paragraph. Ensure that your program works correctly for conversions of less than two human years and for conversions of two or more human years. Your program should generate a random number between 0 and 10. <br>\n",
    "Hints: <br>\n",
    "a. Remember that you can generate a random number between 0 and 1 using the function numpy.random.random(1)<br>\n",
    "b. You can scale this random number to go from 0 to 10 by multiplying it by 10<br>\n",
    "c. At this point what you have is a random floating-point number that goes from 0 to 10. You need to convert this floating-point number to an integer using the int() function."
   ]
  },
  {
   "cell_type": "code",
   "execution_count": 148,
   "metadata": {},
   "outputs": [
    {
     "name": "stdout",
     "output_type": "stream",
     "text": [
      "dog years =  4\n",
      "human years =  29\n"
     ]
    }
   ],
   "source": [
    "import numpy as np\n",
    "\n",
    "x = int(10*np.random.random(1))\n",
    "print(\"dog years = \" , x)\n",
    "age = x\n",
    "if age < 2 or age == 2:\n",
    "    print (\"human years = \", age*10.5)\n",
    "elif age > 2:\n",
    "    print (\"human years = \", (age*4)+13)"
   ]
  },
  {
   "cell_type": "markdown",
   "metadata": {},
   "source": [
    "3. For Students A through J, generate 10 different random numbers between 0 and 100. Create a dataframe to store the student names in the first column (called \"Name\"), and store the scores in the second column called \"Score\".\n",
    "   Print out the mean, standard deviation and maximum of the scores, as well as the index of the student with this maximum score. "
   ]
  },
  {
   "cell_type": "code",
   "execution_count": 197,
   "metadata": {},
   "outputs": [
    {
     "name": "stdout",
     "output_type": "stream",
     "text": [
      "         Score\n",
      "Student       \n",
      "A           44\n",
      "B           47\n",
      "C           64\n",
      "D           67\n",
      "E           67\n",
      "F            9\n",
      "G           83\n",
      "H           21\n",
      "I           36\n",
      "J           87\n",
      "('Mean = ', Score    52.5\n",
      "dtype: float64)\n",
      "('Standard deviation = ', Score    25.674241\n",
      "dtype: float64)\n",
      "('Maximum = ', Score    87\n",
      "dtype: int32)\n"
     ]
    }
   ],
   "source": [
    "import pandas as pd\n",
    "import numpy as np\n",
    "from numpy.random import randn\n",
    "np.random.seed(0)\n",
    "index = \"A B C D E F G H I J\".split\n",
    "x = np.random.randint(101, size=(10,1)) \n",
    "df = pd.DataFrame(x,index=\"A B C D E F G H I J\".split(),columns=\"Score\".split())\n",
    "df = df.rename_axis(\"Student\")\n",
    "df\n",
    "\n",
    "print(df)\n",
    "\n",
    "a = ( \"Mean = \" , df.mean())\n",
    "b = ( \"Standard deviation = \" , df.std())\n",
    "c = ( \"Maximum = \" , df.max())\n",
    "print(a)\n",
    "print(b)\n",
    "print(c)"
   ]
  },
  {
   "cell_type": "markdown",
   "metadata": {},
   "source": [
    "4. Write a program that begins by reading a score in percentage (%) from the user. Then your program should compute and display the equivalent letter grade. Ensure that your program generates an appropriate error message if the user enters an invalid score.\n",
    "Use the grading scale on your syllabus. These scores are typed in below."
   ]
  },
  {
   "cell_type": "code",
   "execution_count": 210,
   "metadata": {
    "scrolled": true
   },
   "outputs": [
    {
     "name": "stdout",
     "output_type": "stream",
     "text": [
      "Percent to Letter Grade Converter:\n",
      "Enter Percent Grade: 2345\n",
      "A+\n"
     ]
    }
   ],
   "source": [
    "letterGrade = ['A+','A','A-','B+','B','B-','C+','C','C-','D+','D','D-']\n",
    "scores = [97,93,90,87,83,80,77,73,70,67,63,60]\n",
    "# A score of less than 60 gets a letter grade of F\n",
    "\n",
    "print(\"Percent to Letter Grade Converter:\")\n",
    "x = input(\"Enter Percent Grade: \")\n",
    "y = int(x)\n",
    "if y > 97 or y == 97:\n",
    "    print(\"A+\")\n",
    "elif y > 93 or y == 93:\n",
    "    print(\"A\")\n",
    "elif y > 90 or y == 90:\n",
    "    print(\"A-\")\n",
    "elif y > 87 or y == 87:\n",
    "    print(\"B+\")\n",
    "elif y > 83 or y == 83:\n",
    "    print(\"B\")\n",
    "elif y > 80 or y == 80:\n",
    "    print(\"B-\")\n",
    "elif y > 77 or y == 77:\n",
    "    print(\"C+\")\n",
    "elif y > 73 or y == 73:\n",
    "    print(\"C\")\n",
    "elif y > 70 or y == 70:\n",
    "    print(\"C-\")\n",
    "elif y > 67 or y == 67:\n",
    "    print(\"D+\")\n",
    "elif y > 63 or y == 63:\n",
    "    print(\"D\")\n",
    "elif y > 60 or y == 60:\n",
    "    print(\"D-\")\n",
    "elif y < 60 and y > 0:\n",
    "    print(\"F\")\n",
    "elif y < 0:\n",
    "    print(\"Invalid Score\")"
   ]
  },
  {
   "cell_type": "markdown",
   "metadata": {},
   "source": [
    "5. Write a program that generates 10 random integers, and then prints the largest odd number that was entered. If no odd number was entered it should print a message to that effect. <br>\n",
    "Hints: <br>\n",
    "    a. Use pseudo-code. <br>\n",
    "    b. Generate a random number using the code below:<br>\n",
    "    myRandInt = np.random.randint(low=1, high=20, size=10)<br>\n",
    "    c. Initialize an empty list to contain the odd numbers. Name this list oddInt <br>\n",
    "    d. Within your for loop, you can append odd numbers to this empty list using the append function. eg: <br>\n",
    "    oddInt.append(\"The current odd number from the list should be put in here!\")"
   ]
  },
  {
   "cell_type": "code",
   "execution_count": 394,
   "metadata": {
    "scrolled": true
   },
   "outputs": [
    {
     "name": "stdout",
     "output_type": "stream",
     "text": [
      "Random List =  [ 6 10 13  9  2 15 14 16  5  3]\n",
      "Odd Numbers From List =  [13, 9, 15, 5, 3]\n",
      "Largest Odd Number =  15\n"
     ]
    }
   ],
   "source": [
    "import numpy as np\n",
    "\n",
    "x = np.random.randint(low=1, high=20, size=10)\n",
    "print(\"Random List = \" , x)\n",
    "oddInt = [y for y in x if y % 2 == 1]\n",
    "  \n",
    "print(\"Odd Numbers From List = \" , oddInt)\n",
    "\n",
    "print(\"Largest Odd Number = \" , max(oddInt))\n"
   ]
  }
 ],
 "metadata": {
  "colab": {
   "collapsed_sections": [
    "sYQs3O-6dHFb",
    "8sIJ4A57dHFk",
    "_73RPOcBdHFn",
    "h9s2tfPcdHFo",
    "zt4YHVYPdHGR"
   ],
   "include_colab_link": true,
   "name": "Copy of intro-python-colab.ipynb",
   "provenance": [],
   "version": "0.3.2"
  },
  "kernelspec": {
   "display_name": "Python 3",
   "language": "python",
   "name": "python3"
  },
  "language_info": {
   "codemirror_mode": {
    "name": "ipython",
    "version": 3
   },
   "file_extension": ".py",
   "mimetype": "text/x-python",
   "name": "python",
   "nbconvert_exporter": "python",
   "pygments_lexer": "ipython3",
   "version": "3.7.3"
  }
 },
 "nbformat": 4,
 "nbformat_minor": 1
}
